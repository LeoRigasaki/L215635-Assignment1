{
 "cells": [
  {
   "cell_type": "code",
   "execution_count": 2,
   "id": "4b8068fe",
   "metadata": {},
   "outputs": [],
   "source": [
    "import pandas as pd"
   ]
  },
  {
   "cell_type": "code",
   "execution_count": 3,
   "id": "7437c659",
   "metadata": {},
   "outputs": [],
   "source": [
    "import numpy as np"
   ]
  },
  {
   "cell_type": "code",
   "execution_count": 4,
   "id": "e200acaa",
   "metadata": {},
   "outputs": [],
   "source": [
    "from sklearn import linear_model"
   ]
  },
  {
   "cell_type": "code",
   "execution_count": 5,
   "id": "7108c1ec",
   "metadata": {
    "scrolled": true
   },
   "outputs": [
    {
     "name": "stdout",
     "output_type": "stream",
     "text": [
      "Total Null values in the each rows of the file : \n",
      "Tail Length (cm)    0\n",
      "Mass (kg)           0\n",
      "dtype: int64\n",
      "<class 'pandas.core.frame.DataFrame'>\n",
      "RangeIndex: 342 entries, 0 to 341\n",
      "Data columns (total 2 columns):\n",
      " #   Column            Non-Null Count  Dtype  \n",
      "---  ------            --------------  -----  \n",
      " 0   Tail Length (cm)  342 non-null    float64\n",
      " 1   Mass (kg)         342 non-null    float64\n",
      "dtypes: float64(2)\n",
      "memory usage: 5.5 KB\n"
     ]
    }
   ],
   "source": [
    "                              #Finding the NULL values(None)\n",
    "import matplotlib.pyplot as plt\n",
    "data  = pd.read_csv('CatData.csv')\n",
    "rows = data.isnull().sum()\n",
    "print(\"Total Null values in the each rows of the file : \")\n",
    "print(rows)\n",
    "data.info()\n",
    "\n"
   ]
  },
  {
   "cell_type": "code",
   "execution_count": 6,
   "id": "1518ff24",
   "metadata": {},
   "outputs": [
    {
     "name": "stdout",
     "output_type": "stream",
     "text": [
      " Data :  342\n",
      " Train :  273\n",
      " Test :  69\n"
     ]
    }
   ],
   "source": [
    "num = int(len(data)*0.8) #Taking 80% data\n",
    "train = data[:num]\n",
    "test = data[num:]\n",
    "print(\" Data : \",len(data))\n",
    "print(\" Train : \",len(train))\n",
    "print(\" Test : \",len(test))"
   ]
  },
  {
   "cell_type": "code",
   "execution_count": 7,
   "id": "6eec8460",
   "metadata": {},
   "outputs": [
    {
     "name": "stdout",
     "output_type": "stream",
     "text": [
      "Slope :  [[0.48913766]]\n",
      "Intercept :  [-5.57328662]\n"
     ]
    }
   ],
   "source": [
    "reg = linear_model.LinearRegression()\n",
    "train_x = np.array(train[['Tail Length (cm)']])\n",
    "train_y = np.array(train[['Mass (kg)']])\n",
    "reg.fit(train_x,train_y)\n",
    "a_slope = reg.coef_\n",
    "a_intercept = reg.intercept_\n",
    "print(\"Slope : \",a_slope)\n",
    "print(\"Intercept : \",a_intercept)"
   ]
  },
  {
   "cell_type": "code",
   "execution_count": 8,
   "id": "a7bb0b21",
   "metadata": {
    "scrolled": false
   },
   "outputs": [
    {
     "data": {
      "image/png": "[encoded data removed]",
      "text/plain": [
       "<Figure size 432x288 with 1 Axes>"
      ]
     },
     "metadata": {
      "needs_background": "light"
     },
     "output_type": "display_data"
    }
   ],
   "source": [
    "\n",
    "plt.title('Cat Data')\n",
    "plt.xlabel('Tail Length (cm)')\n",
    "plt.ylabel('Mass (kg)')\n",
    "plt.scatter(train['Tail Length (cm)'],train['Mass (kg)'],color = '0.4')\n",
    "plt.plot(train_x,a_slope*train_x+a_intercept,color = 'blue')\n",
    "plt.show()"
   ]
  },
  {
   "cell_type": "code",
   "execution_count": 9,
   "id": "2969ea81",
   "metadata": {},
   "outputs": [
    {
     "name": "stderr",
     "output_type": "stream",
     "text": [
      "C:\\ProgramData\\Anaconda3\\lib\\site-packages\\sklearn\\base.py:443: UserWarning: X has feature names, but LinearRegression was fitted without feature names\n",
      "  warnings.warn(\n"
     ]
    },
    {
     "data": {
      "text/plain": [
       "array([[4.84534548],\n",
       "       [3.8181564 ],\n",
       "       [4.01381146],\n",
       "       [3.86707016],\n",
       "       [3.62250133]])"
      ]
     },
     "execution_count": 9,
     "metadata": {},
     "output_type": "execute_result"
    }
   ],
   "source": [
    "pred_test = reg.predict(test[[\"Tail Length (cm)\"]])\n",
    "pred_test[0:5]"
   ]
  },
  {
   "cell_type": "code",
   "execution_count": 10,
   "id": "d6cd74c3",
   "metadata": {},
   "outputs": [
    {
     "data": {
      "image/png": "[encoded data removed]",
      "text/plain": [
       "<Figure size 432x288 with 1 Axes>"
      ]
     },
     "metadata": {
      "needs_background": "light"
     },
     "output_type": "display_data"
    }
   ],
   "source": [
    "\n",
    "plt.title('Cat Data')\n",
    "plt.xlabel('Tail Length (cm)')\n",
    "plt.ylabel('Mass (kg)')\n",
    "plt.scatter(test['Tail Length (cm)'],test['Mass (kg)'],color = '0.4')\n",
    "plt.plot(test['Tail Length (cm)'],pred_test,color = 'red')\n",
    "plt.show()"
   ]
  },
  {
   "cell_type": "code",
   "execution_count": 11,
   "id": "ca0a6bcd",
   "metadata": {
    "scrolled": true
   },
   "outputs": [
    {
     "name": "stderr",
     "output_type": "stream",
     "text": [
      "C:\\ProgramData\\Anaconda3\\lib\\site-packages\\sklearn\\base.py:443: UserWarning: X has feature names, but LinearRegression was fitted without feature names\n",
      "  warnings.warn(\n"
     ]
    },
    {
     "data": {
      "text/plain": [
       "array([[4.84534548],\n",
       "       [3.8181564 ],\n",
       "       [4.01381146],\n",
       "       [3.86707016],\n",
       "       [3.62250133]])"
      ]
     },
     "execution_count": 11,
     "metadata": {},
     "output_type": "execute_result"
    }
   ],
   "source": [
    "pred_data = reg.predict(data[['Tail Length (cm)']])\n",
    "pred_test[0:5]"
   ]
  },
  {
   "cell_type": "code",
   "execution_count": null,
   "id": "9be194a1",
   "metadata": {
    "scrolled": true
   },
   "outputs": [],
   "source": []
  },
  {
   "cell_type": "code",
   "execution_count": 12,
   "id": "8c362ec5",
   "metadata": {},
   "outputs": [
    {
     "name": "stdout",
     "output_type": "stream",
     "text": [
      "   Actual  Predicted\n",
      "0    3.75   3.280105\n",
      "1    3.80   3.280105\n",
      "2    3.25   3.280105\n",
      "3    3.45   3.280105\n",
      "4    3.65   3.280105\n"
     ]
    }
   ],
   "source": [
    "AP_data= pd.DataFrame({\"Actual\":data['Mass (kg)'],\"Predicted\":pred_data[:][0][0]})\n",
    "print(AP_data.head())"
   ]
  },
  {
   "cell_type": "code",
   "execution_count": 13,
   "id": "1c0d7825",
   "metadata": {
    "scrolled": true
   },
   "outputs": [
    {
     "data": {
      "image/png": "[encoded data removed]",
      "text/plain": [
       "<Figure size 720x360 with 1 Axes>"
      ]
     },
     "metadata": {
      "needs_background": "light"
     },
     "output_type": "display_data"
    }
   ],
   "source": [
    "AP_data.head(8).plot(kind = 'bar',figsize = (10,5))\n",
    "plt.show()"
   ]
  },
  {
   "cell_type": "code",
   "execution_count": 16,
   "id": "a72bbcfb",
   "metadata": {},
   "outputs": [
    {
     "name": "stdout",
     "output_type": "stream",
     "text": [
      "Residual Sum of Square :  11.866045989424634\n"
     ]
    }
   ],
   "source": [
    "test_x = np.array(test[['Tail Length (cm)']])\n",
    "test_y = np.array(test[['Mass (kg)']])\n",
    "pred_y = reg.predict(test_x)\n",
    "res = pred_y - test_y\n",
    "RSS = (res*res).sum()\n",
    "print(\"Residual Sum of Square : \",RSS)"
   ]
  },
  {
   "cell_type": "code",
   "execution_count": null,
   "id": "d8479755",
   "metadata": {},
   "outputs": [],
   "source": []
  },
  {
   "cell_type": "code",
   "execution_count": null,
   "id": "0df1d8dc",
   "metadata": {},
   "outputs": [],
   "source": []
  }
 ],
 "metadata": {
  "kernelspec": {
   "display_name": "Python 3 (ipykernel)",
   "language": "python",
   "name": "python3"
  },
  "language_info": {
   "codemirror_mode": {
    "name": "ipython",
    "version": 3
   },
   "file_extension": ".py",
   "mimetype": "text/x-python",
   "name": "python",
   "nbconvert_exporter": "python",
   "pygments_lexer": "ipython3",
   "version": "3.9.12"
  }
 },
 "nbformat": 4,
 "nbformat_minor": 5
}
