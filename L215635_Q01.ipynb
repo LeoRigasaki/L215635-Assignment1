{
 "cells": [
  {
   "cell_type": "code",
   "execution_count": null,
   "id": "c88d592c",
   "metadata": {},
   "outputs": [],
   "source": [
    "import numpy as np\n",
    "def dupliCol(matrix,r,c):\n",
    "    for i in range (c):\n",
    "        col = matrix[0][i]\n",
    "        for j in range (r):\n",
    "            \n",
    "             if matrix[j][i] ==col:\n",
    "                    count = 1\n",
    "             else:\n",
    "                 count = 0\n",
    "    return count\n",
    "    \n",
    "def dupliRow(matrix,r,c):\n",
    "    for i in range (r):\n",
    "        col = matrix[i][0]\n",
    "        for j in range (c):\n",
    "             if matrix[i][j] ==col:\n",
    "                     count = 1\n",
    "             else :\n",
    "                count  = 0\n",
    "    return count\n",
    "\n",
    "def checkinput(amtrix ,r,c):\n",
    "    \n",
    "    if dupliRow(matrix,r,c) and dupliCol(matrix,r,c):\n",
    "    \tprint(\"False\")\n",
    "    else:\n",
    "        print(\"True\")\n",
    "\n",
    "\n",
    "\n",
    "matrix = []\n",
    "r = int(input (\"Enter the rows : \"))\n",
    "c = int(input (\"Enter the columns : \"))\n",
    "for i in range(r):\n",
    "    a= []\n",
    "    for j in range(c):\n",
    "        val = (input(\"Enter the numbers : \"))\n",
    "        a.append(val)\n",
    "    matrix.append(a)\n",
    "arr = np.array(matrix)\n",
    "print(\"The Matrix you entered is : \",end = \"\\n\")\n",
    "for i in range(r):\n",
    "    for j in range(c) :\n",
    "        print(arr[i,j],end  = \" \")\n",
    "    print()\n",
    "\n",
    "checkinput(matrix,r,c)\n",
    "\n",
    "\n",
    "    \n",
    "    \n"
   ]
  },
  {
   "cell_type": "code",
   "execution_count": null,
   "id": "460a4a51",
   "metadata": {},
   "outputs": [],
   "source": []
  },
  {
   "cell_type": "code",
   "execution_count": null,
   "id": "289b1d7a",
   "metadata": {},
   "outputs": [],
   "source": []
  }
 ],
 "metadata": {
  "kernelspec": {
   "display_name": "Python 3 (ipykernel)",
   "language": "python",
   "name": "python3"
  },
  "language_info": {
   "codemirror_mode": {
    "name": "ipython",
    "version": 3
   },
   "file_extension": ".py",
   "mimetype": "text/x-python",
   "name": "python",
   "nbconvert_exporter": "python",
   "pygments_lexer": "ipython3",
   "version": "3.9.12"
  }
 },
 "nbformat": 4,
 "nbformat_minor": 5
}
