{
 "cells": [
  {
   "cell_type": "code",
   "execution_count": 1,
   "id": "d9bb2c9a",
   "metadata": {},
   "outputs": [],
   "source": [
    "import numpy as np"
   ]
  },
  {
   "cell_type": "code",
   "execution_count": 2,
   "id": "14b7fbc2",
   "metadata": {},
   "outputs": [],
   "source": [
    "import matplotlib.pyplot as plt"
   ]
  },
  {
   "cell_type": "code",
   "execution_count": 3,
   "id": "dd623c39",
   "metadata": {},
   "outputs": [
    {
     "data": {
      "text/html": [
       "<div>\n",
       "<style scoped>\n",
       "    .dataframe tbody tr th:only-of-type {\n",
       "        vertical-align: middle;\n",
       "    }\n",
       "\n",
       "    .dataframe tbody tr th {\n",
       "        vertical-align: top;\n",
       "    }\n",
       "\n",
       "    .dataframe thead th {\n",
       "        text-align: right;\n",
       "    }\n",
       "</style>\n",
       "<table border=\"1\" class=\"dataframe\">\n",
       "  <thead>\n",
       "    <tr style=\"text-align: right;\">\n",
       "      <th></th>\n",
       "      <th>Student name</th>\n",
       "      <th>Exam name</th>\n",
       "      <th>Exam date</th>\n",
       "      <th>Marks</th>\n",
       "    </tr>\n",
       "  </thead>\n",
       "  <tbody>\n",
       "    <tr>\n",
       "      <th>0</th>\n",
       "      <td>James Walker</td>\n",
       "      <td>Biology</td>\n",
       "      <td>5/6/2016</td>\n",
       "      <td>31.0</td>\n",
       "    </tr>\n",
       "    <tr>\n",
       "      <th>1</th>\n",
       "      <td>Velma Clemons</td>\n",
       "      <td>Biology</td>\n",
       "      <td>5/6/2016</td>\n",
       "      <td>43.0</td>\n",
       "    </tr>\n",
       "    <tr>\n",
       "      <th>2</th>\n",
       "      <td>Kibo Underwood</td>\n",
       "      <td>Biology</td>\n",
       "      <td>5/6/2016</td>\n",
       "      <td>81.0</td>\n",
       "    </tr>\n",
       "    <tr>\n",
       "      <th>3</th>\n",
       "      <td>Louis Mcgee</td>\n",
       "      <td>Biology</td>\n",
       "      <td>5/6/2016</td>\n",
       "      <td>11.0</td>\n",
       "    </tr>\n",
       "    <tr>\n",
       "      <th>4</th>\n",
       "      <td>Phyllis Paul</td>\n",
       "      <td>Biology</td>\n",
       "      <td>5/6/2016</td>\n",
       "      <td>18.0</td>\n",
       "    </tr>\n",
       "  </tbody>\n",
       "</table>\n",
       "</div>"
      ],
      "text/plain": [
       "     Student name Exam name Exam date  Marks\n",
       "0    James Walker   Biology  5/6/2016   31.0\n",
       "1   Velma Clemons   Biology  5/6/2016   43.0\n",
       "2  Kibo Underwood   Biology  5/6/2016   81.0\n",
       "3     Louis Mcgee   Biology  5/6/2016   11.0\n",
       "4    Phyllis Paul   Biology  5/6/2016   18.0"
      ]
     },
     "execution_count": 3,
     "metadata": {},
     "output_type": "execute_result"
    }
   ],
   "source": [
    "#PART A\n",
    "\n",
    "import pandas as pd\n",
    "data  = pd.read_csv('StudentMarkSheet.csv')\n",
    "data.head()"
   ]
  },
  {
   "cell_type": "code",
   "execution_count": 4,
   "id": "1521e0ed",
   "metadata": {
    "scrolled": true
   },
   "outputs": [
    {
     "data": {
      "text/html": [
       "<div>\n",
       "<style scoped>\n",
       "    .dataframe tbody tr th:only-of-type {\n",
       "        vertical-align: middle;\n",
       "    }\n",
       "\n",
       "    .dataframe tbody tr th {\n",
       "        vertical-align: top;\n",
       "    }\n",
       "\n",
       "    .dataframe thead th {\n",
       "        text-align: right;\n",
       "    }\n",
       "</style>\n",
       "<table border=\"1\" class=\"dataframe\">\n",
       "  <thead>\n",
       "    <tr style=\"text-align: right;\">\n",
       "      <th></th>\n",
       "      <th>Student name</th>\n",
       "      <th>Exam name</th>\n",
       "      <th>Exam date</th>\n",
       "      <th>Marks</th>\n",
       "    </tr>\n",
       "  </thead>\n",
       "  <tbody>\n",
       "    <tr>\n",
       "      <th>0</th>\n",
       "      <td>James Walker</td>\n",
       "      <td>Biology</td>\n",
       "      <td>5/6/2016</td>\n",
       "      <td>31.0</td>\n",
       "    </tr>\n",
       "    <tr>\n",
       "      <th>1</th>\n",
       "      <td>Velma Clemons</td>\n",
       "      <td>Biology</td>\n",
       "      <td>5/6/2016</td>\n",
       "      <td>43.0</td>\n",
       "    </tr>\n",
       "    <tr>\n",
       "      <th>2</th>\n",
       "      <td>Kibo Underwood</td>\n",
       "      <td>Biology</td>\n",
       "      <td>5/6/2016</td>\n",
       "      <td>81.0</td>\n",
       "    </tr>\n",
       "    <tr>\n",
       "      <th>3</th>\n",
       "      <td>Louis Mcgee</td>\n",
       "      <td>Biology</td>\n",
       "      <td>5/6/2016</td>\n",
       "      <td>11.0</td>\n",
       "    </tr>\n",
       "    <tr>\n",
       "      <th>4</th>\n",
       "      <td>Phyllis Paul</td>\n",
       "      <td>Biology</td>\n",
       "      <td>5/6/2016</td>\n",
       "      <td>18.0</td>\n",
       "    </tr>\n",
       "    <tr>\n",
       "      <th>...</th>\n",
       "      <td>...</td>\n",
       "      <td>...</td>\n",
       "      <td>...</td>\n",
       "      <td>...</td>\n",
       "    </tr>\n",
       "    <tr>\n",
       "      <th>195</th>\n",
       "      <td>Yen Bowers</td>\n",
       "      <td>Sociology</td>\n",
       "      <td>21/06/2016</td>\n",
       "      <td>52.0</td>\n",
       "    </tr>\n",
       "    <tr>\n",
       "      <th>196</th>\n",
       "      <td>Ryan Pena</td>\n",
       "      <td>Sociology</td>\n",
       "      <td>21/06/2016</td>\n",
       "      <td>16.0</td>\n",
       "    </tr>\n",
       "    <tr>\n",
       "      <th>197</th>\n",
       "      <td>Portia Hamilton</td>\n",
       "      <td>Sociology</td>\n",
       "      <td>21/06/2016</td>\n",
       "      <td>34.0</td>\n",
       "    </tr>\n",
       "    <tr>\n",
       "      <th>198</th>\n",
       "      <td>Sydnee Chambers</td>\n",
       "      <td>Sociology</td>\n",
       "      <td>21/06/2016</td>\n",
       "      <td>76.0</td>\n",
       "    </tr>\n",
       "    <tr>\n",
       "      <th>199</th>\n",
       "      <td>Stacy Small</td>\n",
       "      <td>Sociology</td>\n",
       "      <td>21/06/2016</td>\n",
       "      <td>96.0</td>\n",
       "    </tr>\n",
       "  </tbody>\n",
       "</table>\n",
       "<p>196 rows × 4 columns</p>\n",
       "</div>"
      ],
      "text/plain": [
       "        Student name  Exam name   Exam date  Marks\n",
       "0       James Walker    Biology    5/6/2016   31.0\n",
       "1      Velma Clemons    Biology    5/6/2016   43.0\n",
       "2     Kibo Underwood    Biology    5/6/2016   81.0\n",
       "3        Louis Mcgee    Biology    5/6/2016   11.0\n",
       "4       Phyllis Paul    Biology    5/6/2016   18.0\n",
       "..               ...        ...         ...    ...\n",
       "195       Yen Bowers  Sociology  21/06/2016   52.0\n",
       "196        Ryan Pena  Sociology  21/06/2016   16.0\n",
       "197  Portia Hamilton  Sociology  21/06/2016   34.0\n",
       "198  Sydnee Chambers  Sociology  21/06/2016   76.0\n",
       "199      Stacy Small  Sociology  21/06/2016   96.0\n",
       "\n",
       "[196 rows x 4 columns]"
      ]
     },
     "execution_count": 4,
     "metadata": {},
     "output_type": "execute_result"
    }
   ],
   "source": [
    "data.dropna(how = 'any')"
   ]
  },
  {
   "cell_type": "code",
   "execution_count": 5,
   "id": "044a9ad7",
   "metadata": {},
   "outputs": [
    {
     "name": "stdout",
     "output_type": "stream",
     "text": [
      "<class 'pandas.core.frame.DataFrame'>\n",
      "RangeIndex: 200 entries, 0 to 199\n",
      "Data columns (total 4 columns):\n",
      " #   Column        Non-Null Count  Dtype  \n",
      "---  ------        --------------  -----  \n",
      " 0   Student name  200 non-null    object \n",
      " 1   Exam name     199 non-null    object \n",
      " 2   Exam date     200 non-null    object \n",
      " 3   Marks         197 non-null    float64\n",
      "dtypes: float64(1), object(3)\n",
      "memory usage: 6.4+ KB\n"
     ]
    }
   ],
   "source": [
    "data.info() #"
   ]
  },
  {
   "cell_type": "code",
   "execution_count": 6,
   "id": "71aae186",
   "metadata": {},
   "outputs": [
    {
     "name": "stdout",
     "output_type": "stream",
     "text": [
      "Total number of rows before deletion :  200\n"
     ]
    }
   ],
   "source": [
    "#Part A(1)\n",
    "\n",
    "df = pd.DataFrame(data,index = None)\n",
    "rows = len(df.axes[0])\n",
    "print(\"Total number of rows before deletion : \",rows)"
   ]
  },
  {
   "cell_type": "code",
   "execution_count": 7,
   "id": "6c9e0ffb",
   "metadata": {
    "scrolled": true
   },
   "outputs": [
    {
     "data": {
      "text/plain": [
       "Student name    0\n",
       "Exam name       1\n",
       "Exam date       0\n",
       "Marks           3\n",
       "dtype: int64"
      ]
     },
     "execution_count": 7,
     "metadata": {},
     "output_type": "execute_result"
    }
   ],
   "source": [
    "#Part B(2)\n",
    "\n",
    "data.isnull().sum()  #Checking the column having null value"
   ]
  },
  {
   "cell_type": "code",
   "execution_count": 8,
   "id": "e5a2a4c1",
   "metadata": {},
   "outputs": [
    {
     "data": {
      "text/html": [
       "<div>\n",
       "<style scoped>\n",
       "    .dataframe tbody tr th:only-of-type {\n",
       "        vertical-align: middle;\n",
       "    }\n",
       "\n",
       "    .dataframe tbody tr th {\n",
       "        vertical-align: top;\n",
       "    }\n",
       "\n",
       "    .dataframe thead th {\n",
       "        text-align: right;\n",
       "    }\n",
       "</style>\n",
       "<table border=\"1\" class=\"dataframe\">\n",
       "  <thead>\n",
       "    <tr style=\"text-align: right;\">\n",
       "      <th></th>\n",
       "      <th>Student name</th>\n",
       "      <th>Exam name</th>\n",
       "      <th>Exam date</th>\n",
       "      <th>Marks</th>\n",
       "    </tr>\n",
       "  </thead>\n",
       "  <tbody>\n",
       "    <tr>\n",
       "      <th>188</th>\n",
       "      <td>Demetrius Castaneda</td>\n",
       "      <td>NaN</td>\n",
       "      <td>21/06/2016</td>\n",
       "      <td>67.0</td>\n",
       "    </tr>\n",
       "  </tbody>\n",
       "</table>\n",
       "</div>"
      ],
      "text/plain": [
       "            Student name Exam name   Exam date  Marks\n",
       "188  Demetrius Castaneda       NaN  21/06/2016   67.0"
      ]
     },
     "execution_count": 8,
     "metadata": {},
     "output_type": "execute_result"
    }
   ],
   "source": [
    "#The NULL value in one row of Exam name \n",
    "\n",
    "data[data['Exam name'].isnull()]"
   ]
  },
  {
   "cell_type": "code",
   "execution_count": 9,
   "id": "cc0d0af1",
   "metadata": {
    "scrolled": true
   },
   "outputs": [
    {
     "data": {
      "text/html": [
       "<div>\n",
       "<style scoped>\n",
       "    .dataframe tbody tr th:only-of-type {\n",
       "        vertical-align: middle;\n",
       "    }\n",
       "\n",
       "    .dataframe tbody tr th {\n",
       "        vertical-align: top;\n",
       "    }\n",
       "\n",
       "    .dataframe thead th {\n",
       "        text-align: right;\n",
       "    }\n",
       "</style>\n",
       "<table border=\"1\" class=\"dataframe\">\n",
       "  <thead>\n",
       "    <tr style=\"text-align: right;\">\n",
       "      <th></th>\n",
       "      <th>Student name</th>\n",
       "      <th>Exam name</th>\n",
       "      <th>Exam date</th>\n",
       "      <th>Marks</th>\n",
       "    </tr>\n",
       "  </thead>\n",
       "  <tbody>\n",
       "    <tr>\n",
       "      <th>47</th>\n",
       "      <td>Ryan Herman</td>\n",
       "      <td>Chemistry</td>\n",
       "      <td>15/06/2016</td>\n",
       "      <td>NaN</td>\n",
       "    </tr>\n",
       "    <tr>\n",
       "      <th>78</th>\n",
       "      <td>Nelle Skinner</td>\n",
       "      <td>Mathematics</td>\n",
       "      <td>29/07/2016</td>\n",
       "      <td>NaN</td>\n",
       "    </tr>\n",
       "    <tr>\n",
       "      <th>104</th>\n",
       "      <td>Myra Wall</td>\n",
       "      <td>Philosophy</td>\n",
       "      <td>2/6/2016</td>\n",
       "      <td>NaN</td>\n",
       "    </tr>\n",
       "  </tbody>\n",
       "</table>\n",
       "</div>"
      ],
      "text/plain": [
       "      Student name    Exam name   Exam date  Marks\n",
       "47     Ryan Herman    Chemistry  15/06/2016    NaN\n",
       "78   Nelle Skinner  Mathematics  29/07/2016    NaN\n",
       "104      Myra Wall   Philosophy    2/6/2016    NaN"
      ]
     },
     "execution_count": 9,
     "metadata": {},
     "output_type": "execute_result"
    }
   ],
   "source": [
    "data[data['Marks'].isnull()]#The NULL value in the 3 rows of Marks"
   ]
  },
  {
   "cell_type": "code",
   "execution_count": 10,
   "id": "36e113a2",
   "metadata": {},
   "outputs": [
    {
     "data": {
      "text/plain": [
       "Student name    200\n",
       "Exam name       199\n",
       "Exam date       200\n",
       "Marks           197\n",
       "dtype: int64"
      ]
     },
     "execution_count": 10,
     "metadata": {},
     "output_type": "execute_result"
    }
   ],
   "source": [
    "#Part B(3)\n",
    "\n",
    "data.notnull().sum()"
   ]
  },
  {
   "cell_type": "code",
   "execution_count": 11,
   "id": "9a4aba55",
   "metadata": {},
   "outputs": [
    {
     "data": {
      "text/html": [
       "<div>\n",
       "<style scoped>\n",
       "    .dataframe tbody tr th:only-of-type {\n",
       "        vertical-align: middle;\n",
       "    }\n",
       "\n",
       "    .dataframe tbody tr th {\n",
       "        vertical-align: top;\n",
       "    }\n",
       "\n",
       "    .dataframe thead th {\n",
       "        text-align: right;\n",
       "    }\n",
       "</style>\n",
       "<table border=\"1\" class=\"dataframe\">\n",
       "  <thead>\n",
       "    <tr style=\"text-align: right;\">\n",
       "      <th></th>\n",
       "      <th>Student name</th>\n",
       "      <th>Exam name</th>\n",
       "      <th>Exam date</th>\n",
       "      <th>Marks</th>\n",
       "    </tr>\n",
       "  </thead>\n",
       "  <tbody>\n",
       "    <tr>\n",
       "      <th>0</th>\n",
       "      <td>James Walker</td>\n",
       "      <td>Biology</td>\n",
       "      <td>5/6/2016</td>\n",
       "      <td>31.0</td>\n",
       "    </tr>\n",
       "    <tr>\n",
       "      <th>42</th>\n",
       "      <td>James Walker</td>\n",
       "      <td>Chemistry</td>\n",
       "      <td>15/06/2016</td>\n",
       "      <td>61.0</td>\n",
       "    </tr>\n",
       "    <tr>\n",
       "      <th>71</th>\n",
       "      <td>James Walker</td>\n",
       "      <td>Mathematics</td>\n",
       "      <td>29/07/2016</td>\n",
       "      <td>23.0</td>\n",
       "    </tr>\n",
       "    <tr>\n",
       "      <th>150</th>\n",
       "      <td>James Walker</td>\n",
       "      <td>Physics</td>\n",
       "      <td>10/6/2016</td>\n",
       "      <td>100.0</td>\n",
       "    </tr>\n",
       "    <tr>\n",
       "      <th>180</th>\n",
       "      <td>James Walker</td>\n",
       "      <td>Sociology</td>\n",
       "      <td>21/06/2016</td>\n",
       "      <td>73.0</td>\n",
       "    </tr>\n",
       "  </tbody>\n",
       "</table>\n",
       "</div>"
      ],
      "text/plain": [
       "     Student name    Exam name   Exam date  Marks\n",
       "0    James Walker      Biology    5/6/2016   31.0\n",
       "42   James Walker    Chemistry  15/06/2016   61.0\n",
       "71   James Walker  Mathematics  29/07/2016   23.0\n",
       "150  James Walker      Physics   10/6/2016  100.0\n",
       "180  James Walker    Sociology  21/06/2016   73.0"
      ]
     },
     "execution_count": 11,
     "metadata": {},
     "output_type": "execute_result"
    }
   ],
   "source": [
    "#Part C\n",
    "\n",
    "data[data['Student name']=='James Walker']#Finding the indexes of occurence of Jame Walker"
   ]
  },
  {
   "cell_type": "code",
   "execution_count": 12,
   "id": "9a464f7a",
   "metadata": {},
   "outputs": [
    {
     "name": "stdout",
     "output_type": "stream",
     "text": [
      "The Marks of James Walker :  288.0\n"
     ]
    }
   ],
   "source": [
    "#Sum of the marks of Jame Walker \n",
    "\n",
    "result = data[data['Student name']=='James Walker']['Marks'].sum() \n",
    "\n",
    "print(\"The Marks of James Walker : \",result)"
   ]
  },
  {
   "cell_type": "code",
   "execution_count": 13,
   "id": "d984dc3b",
   "metadata": {},
   "outputs": [],
   "source": [
    "bio= data[data['Exam name']=='Biology']['Marks'].mean()\n",
    "chem = data[data['Exam name']=='Chemistry']['Marks'].mean()\n",
    "math = data[data['Exam name']=='Mathematics']['Marks'].mean()\n",
    "phy = data[data['Exam name']=='Physics']['Marks'].mean()\n",
    "phylos = data[data['Exam name']=='Philosophy']['Marks'].mean()\n",
    "socio = data[data['Exam name']=='Sociology']['Marks'].mean()"
   ]
  },
  {
   "cell_type": "code",
   "execution_count": 14,
   "id": "e98b1d94",
   "metadata": {},
   "outputs": [
    {
     "name": "stdout",
     "output_type": "stream",
     "text": [
      "The Average Marks of each Subject are Bio  47.89\n",
      "Mathematics  48.97\n",
      "Chemistry  50.58\n",
      "Physics  51.76\n",
      "Philosophy  47.27\n",
      "Sociology 56.03\n"
     ]
    }
   ],
   "source": [
    "print(\"The Average Marks of each Subject are Bio \",round(bio,2))\n",
    "print(\"Mathematics \",round(math,2))\n",
    "print(\"Chemistry \",round(chem,2))\n",
    "print(\"Physics \" ,round(phy,2))\n",
    "print(\"Philosophy \",round(phylos,2))\n",
    "print(\"Sociology\",round(socio,2))"
   ]
  },
  {
   "cell_type": "code",
   "execution_count": 15,
   "id": "fdfb9e1c",
   "metadata": {},
   "outputs": [
    {
     "data": {
      "text/plain": [
       "<BarContainer object of 6 artists>"
      ]
     },
     "execution_count": 15,
     "metadata": {},
     "output_type": "execute_result"
    },
    {
     "data": {
      "image/png": "[encoded data removed]",
      "text/plain": [
       "<Figure size 432x288 with 1 Axes>"
      ]
     },
     "metadata": {
      "needs_background": "light"
     },
     "output_type": "display_data"
    }
   ],
   "source": [
    "plt.title('Average of Subjects')\n",
    "plt.xlabel('Subject')\n",
    "plt.ylabel('Value')\n",
    "\n",
    "\n",
    "x = np.array([\"Biology\",\"Mathemnatics\",\"Chemistry\",\"Physics\",\"Philosophy\",\"Sociology\"])\n",
    "y = np.array([bio,math,chem,phy,phylos,socio])\n",
    "\n",
    "plt.bar(x,y,color = ['black','grey','blue','purple','yellow','orange'])"
   ]
  }
 ],
 "metadata": {
  "kernelspec": {
   "display_name": "Python 3 (ipykernel)",
   "language": "python",
   "name": "python3"
  },
  "language_info": {
   "codemirror_mode": {
    "name": "ipython",
    "version": 3
   },
   "file_extension": ".py",
   "mimetype": "text/x-python",
   "name": "python",
   "nbconvert_exporter": "python",
   "pygments_lexer": "ipython3",
   "version": "3.9.12"
  }
 },
 "nbformat": 4,
 "nbformat_minor": 5
}
